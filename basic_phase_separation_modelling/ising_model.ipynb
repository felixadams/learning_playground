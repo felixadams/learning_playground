# Importing necessary libraries
import numpy as np
import matplotlib.pyplot as plt
import seaborn as sns
from matplotlib.animation import FuncAnimation
from IPython.display import HTML, display

# Set up the notebook for inline plotting
%matplotlib inline

def initialize_lattice(N, ratio=0.5, randomize=True):
    """
    Initialize a 2D lattice of size NxN with a specific ratio of spins.
    Args:
    - N (int): Size of the lattice.
    - ratio (float): Ratio of spins of one type (e.g., blue) to the other (e.g., red).
    - randomize (bool): If True, initialize with random spins. If False, use a specific pattern.

    Returns:
    - np.ndarray: Initialized lattice.
    """
    if randomize:
        num_spins = N * N
        num_blue = int(num_spins * ratio)
        num_red = num_spins - num_blue
        spins = np.array([1] * num_blue + [-1] * num_red)
        np.random.shuffle(spins)
        return spins.reshape((N, N))
    else:
        lattice = np.ones((N, N))
        lattice[:, :N//2] = -1
        return lattice


# Function to calculate the energy of a given spin configuration
def calculate_energy(lattice):
    """
    Calculate the total energy of the lattice configuration.
    Args:
    - lattice (np.ndarray): Spin configuration of the lattice.

    Returns:
    - float: Total energy of the lattice.
    """
    energy = 0
    N = lattice.shape[0]
    for i in range(N):
        for j in range(N):
            spin = lattice[i, j]
            neighbors = lattice[(i+1) % N, j] + lattice[(i-1) % N, j] + \
                        lattice[i, (j+1) % N] + lattice[i, (j-1) % N]
            energy += -spin * neighbors
    return energy / 2.0

# Function to perform a single Metropolis step with boundary conditions
def metropolis_step(lattice, temperature):
    """
    Perform a single Metropolis step on the lattice with periodic boundary conditions.
    Args:
    - lattice (np.ndarray): Spin configuration of the lattice.
    - temperature (float): Temperature of the system.

    Returns:
    - np.ndarray: Updated lattice configuration.
    """
    N = lattice.shape[0]
    for _ in range(N**2):
        i, j = np.random.randint(0, N, size=2)
        spin = lattice[i, j]
        neighbors = lattice[(i+1) % N, j] + lattice[(i-1) % N, j] + \
                    lattice[i, (j+1) % N] + lattice[i, (j-1) % N]
        delta_E = 2 * spin * neighbors
        if delta_E < 0 or np.random.rand() < np.exp(-delta_E / temperature):
            lattice[i, j] *= -1
    return lattice

def simulate_phase_separation(N, temperatures, steps, output_interval, ratio=0.5):
    """
    Simulate phase separation at various temperatures.
    Args:
    - N (int): Size of the lattice.
    - temperatures (list): List of temperatures to simulate.
    - steps (int): Number of simulation steps per temperature.
    - output_interval (int): Interval for displaying results.
    - ratio (float): Ratio of spins to ensure consistent initialization.

    Returns:
    - dict: Dictionary with temperatures as keys and final lattice states as values.
    - dict: Dictionary with temperatures as keys and lists of lattice states for each step as values.
    - dict: Dictionary with temperatures as keys and lists of energy values over time.
    """
    final_states = {}
    animations = {}
    energies = {}  # To store energy values for each temperature
    for temperature in temperatures:
        lattice = initialize_lattice(N, ratio=ratio)
        energy = []
        lattice_states = []
        for step in range(steps):
            lattice = metropolis_step(lattice, temperature)
            energy.append(calculate_energy(lattice))
            lattice_states.append(np.copy(lattice))
            if step % output_interval == 0:
                clear_output(wait=True)
                plot_lattice(lattice, step, temperature, energy)
        final_states[temperature] = lattice
        animations[temperature] = lattice_states
        energies[temperature] = energy  # Store energy values
    return final_states, animations, energies


# Function to plot the lattice during simulation
def plot_lattice(lattice, step, temperature, energy):
    """
    Plot the lattice and the energy over time.
    Args:
    - lattice (np.ndarray): Current lattice configuration.
    - step (int): Current simulation step.
    - temperature (float): Temperature of the system.
    - energy (list): List of energy values over time.
    """
    plt.figure(figsize=(10, 4))
    plt.subplot(1, 2, 1)
    sns.heatmap(lattice, cbar=False, cmap='coolwarm')
    plt.title(f'Step: {step}, Temperature: {temperature}')
    plt.subplot(1, 2, 2)
    plt.plot(energy)
    plt.title('Energy over Time')
    plt.xlabel('Step')
    plt.ylabel('Energy')
    plt.show()

# Function to create animation for each temperature
def create_animation(lattice_states, temperature):
    """
    Create an animation of lattice states over time with periodic boundary conditions.
    Args:
    - lattice_states (list of np.ndarray): List of lattice configurations for each step.
    - temperature (float): Temperature of the system.

    Returns:
    - HTML: Animation displayed in the notebook.
    """
    fig, ax = plt.subplots(figsize=(6, 6))
    
    def update(frame):
        ax.clear()
        sns.heatmap(lattice_states[frame], cbar=False, cmap='coolwarm', ax=ax, square=True)
        ax.set_title(f'Temperature: {temperature}, Step: {frame}')
        ax.set_xticks([])
        ax.set_yticks([])

    ani = FuncAnimation(fig, update, frames=len(lattice_states), repeat=False)
    return 

# Function to plot final comparison results
def final_comparison_plot(final_states, temperatures):
    """
    Plot the final lattice states for each temperature for comparison.
    Args:
    - final_states (dict): Dictionary with temperatures as keys and final lattice states as values.
    - temperatures (list): List of temperatures to compare.
    """
    plt.figure(figsize=(15, 10))
    for i, temperature in enumerate(temperatures):
        plt.subplot(2, len(temperatures), i + 1)
        sns.heatmap(final_states[temperature], cbar=False, cmap='coolwarm')
        plt.title(f'Temperature: {temperature}')
        plt.xlabel('X')
        plt.ylabel('Y')
    plt.tight_layout()
    plt.show()

def plot_combined_energy(energies, temperatures):
    """
    Plot energy over time for multiple temperatures on the same graph.
    Args:
    - energies (dict): Dictionary with temperatures as keys and lists of energy values over time.
    - temperatures (list): List of temperatures to plot.
    """
    plt.figure(figsize=(10, 6))
    for temperature in temperatures:
        plt.plot(energies[temperature], label=f'Temperature: {temperature}')
    
    plt.title('Energy Over Time for Different Temperatures')
    plt.xlabel('Step')
    plt.ylabel('Energy')
    plt.legend()
    plt.grid(True)
    plt.show()


# Parameters
N = 50  # Size of the lattice
temperatures = [1.0, 2.0, 3.0, 4.0]  # Different temperatures to compare
steps = 100  # Number of simulation steps
output_interval = 10  # Interval at which the lattice and energy are displayed

# Run the simulation and get final states, animations, and energies
final_states, animations, energies = simulate_phase_separation(N, temperatures, steps, output_interval)

# Plot final comparison results
final_comparison_plot(final_states, temperatures)

# Plot combined energy over time
plot_combined_energy(energies, temperatures)

